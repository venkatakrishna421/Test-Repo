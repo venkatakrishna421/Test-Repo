{
 "cells": [
  {
   "cell_type": "markdown",
   "id": "c6810d2a-8954-4010-ba68-047d128e29c5",
   "metadata": {},
   "source": [
    "# Data Science Tools and Ecosystem"
   ]
  },
  {
   "cell_type": "markdown",
   "id": "cfc4104f-1440-43a9-969a-7239956c0039",
   "metadata": {},
   "source": [
    " **In this notebook, Data Science Tools and Ecosystem are summarized.**"
   ]
  },
  {
   "cell_type": "markdown",
   "id": "a96339f9-74eb-40fd-9cf4-4c12529fa482",
   "metadata": {},
   "source": [
    "#### Some of the popular languages that Data Scientists use are:\n",
    "1. Python\n",
    "2. SQL\n",
    "3. Java"
   ]
  },
  {
   "cell_type": "markdown",
   "id": "93b67ad7-d02e-4c8b-8302-e6dc602b8f72",
   "metadata": {},
   "source": [
    "#### Some of the commonly used libraries used by Data Scientists include:\n",
    "1. Numpy\n",
    "2. Pandas\n",
    "3. Matplotib"
   ]
  },
  {
   "cell_type": "markdown",
   "id": "69273abc-5408-40b1-8836-f8698319b3b8",
   "metadata": {},
   "source": [
    "|Data Science Tools|\n",
    "|------------------|\n",
    "|Jupiter|\n",
    "|R Studio|\n",
    "|Visual Studio|"
   ]
  },
  {
   "cell_type": "markdown",
   "id": "c209f103-eaee-40e7-a813-1956d37d7277",
   "metadata": {},
   "source": [
    "### Below are a few examples of evaluating arithmetic expressions in Python."
   ]
  },
  {
   "cell_type": "code",
   "execution_count": 4,
   "id": "6fad64ab-8fd7-449d-8b60-7af8c69e151e",
   "metadata": {},
   "outputs": [
    {
     "name": "stdout",
     "output_type": "stream",
     "text": [
      "17\n"
     ]
    }
   ],
   "source": [
    "#This a simple arithmetic expression to mutiply then add integers.\n",
    "a = 3\n",
    "b = 4\n",
    "c = 5\n",
    "z = (3*4)+5\n",
    "print (z)"
   ]
  },
  {
   "cell_type": "code",
   "execution_count": 6,
   "id": "d5492871-c852-4d31-8404-e9069afdc652",
   "metadata": {},
   "outputs": [
    {
     "name": "stdout",
     "output_type": "stream",
     "text": [
      "3.3333333333333335\n"
     ]
    }
   ],
   "source": [
    "#This will convert 200 minutes to hours by diving by 60.\n",
    "\n",
    "a = 200 \n",
    "hour = 60 \n",
    "c = a/hour\n",
    "print(c)"
   ]
  },
  {
   "cell_type": "markdown",
   "id": "f2cdc143-68be-4a9d-804f-02edc78ebfdd",
   "metadata": {},
   "source": [
    "**Objectives**\n",
    "\n",
    "- List the popular languages for Data Science.\n",
    "- List the commonly used libraries for Data Science.\n",
    "- List three development environment open source tools used in data science.\n",
    "- Take a screenshot of the code cell with output and name.\n",
    "- This will convert 200 minutes to hours by diving by 60."
   ]
  },
  {
   "cell_type": "markdown",
   "id": "464ef859-16ae-4a6b-9460-29e969105c54",
   "metadata": {},
   "source": [
    "## Author\n",
    "Venkatakrishna"
   ]
  },
  {
   "cell_type": "code",
   "execution_count": null,
   "id": "f7df506c-9661-49be-abb2-a3893fda401b",
   "metadata": {},
   "outputs": [],
   "source": []
  }
 ],
 "metadata": {
  "kernelspec": {
   "display_name": "Python 3 (ipykernel)",
   "language": "python",
   "name": "python3"
  },
  "language_info": {
   "codemirror_mode": {
    "name": "ipython",
    "version": 3
   },
   "file_extension": ".py",
   "mimetype": "text/x-python",
   "name": "python",
   "nbconvert_exporter": "python",
   "pygments_lexer": "ipython3",
   "version": "3.12.8"
  }
 },
 "nbformat": 4,
 "nbformat_minor": 5
}
